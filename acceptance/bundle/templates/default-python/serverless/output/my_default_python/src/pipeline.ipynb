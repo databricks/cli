{
 "cells": [
  {
   "cell_type": "markdown",
   "metadata": {
    "application/vnd.databricks.v1+cell": {
     "cellMetadata": {},
     "inputWidgets": {},
     "nuid": "[UUID]",
     "showTitle": false,
     "title": ""
    }
   },
   "source": [
    "# Lakeflow Declarative Pipeline\n",
    "\n",
    "This Lakeflow Declarative Pipeline definition is executed using a pipeline defined in resources/my_default_python.pipeline.yml."
   ]
  },
  {
   "cell_type": "code",
   "execution_count": 0,
   "metadata": {
    "application/vnd.databricks.v1+cell": {
     "cellMetadata": {},
     "inputWidgets": {},
     "nuid": "[UUID]",
     "showTitle": false,
     "title": ""
    }
   },
   "outputs": [],
   "source": [
    "# Import DLT and src/my_default_python\n",
    "import dlt\n",
    "import sys\n",
    "\n",
    "sys.path.append(spark.conf.get(\"bundle.sourcePath\", \".\"))\n",
    "from pyspark.sql.functions import expr\n",
    "from my_default_python import main"
   ]
  },
  {
   "cell_type": "code",
   "execution_count": 0,
   "metadata": {
    "application/vnd.databricks.v1+cell": {
     "cellMetadata": {},
     "inputWidgets": {},
     "nuid": "[UUID]",
     "showTitle": false,
     "title": ""
    }
   },
   "outputs": [],
   "source": [
    "@dlt.view\n",
    "def taxi_raw():\n",
    "    return main.find_all_taxis()\n",
    "\n",
    "\n",
    "@dlt.table\n",
    "def filtered_taxis():\n",
    "    return dlt.read(\"taxi_raw\").filter(expr(\"fare_amount < 30\"))"
   ]
  }
 ],
 "metadata": {
  "application/vnd.databricks.v1+notebook": {
   "dashboards": [],
   "language": "python",
   "notebookMetadata": {
    "pythonIndentUnit": 2
   },
   "notebookName": "pipeline",
   "widgets": {}
  },
  "kernelspec": {
   "display_name": "Python 3",
   "language": "python",
   "name": "python3"
  },
  "language_info": {
   "name": "python",
   "version": "3.11.4"
  }
 },
 "nbformat": 4,
 "nbformat_minor": 0
}
